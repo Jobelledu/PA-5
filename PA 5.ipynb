{
 "cells": [
  {
   "cell_type": "markdown",
   "id": "ba1dcbe9",
   "metadata": {},
   "source": [
    "## Justin Odle PA 5 FA 22 "
   ]
  },
  {
   "cell_type": "code",
   "execution_count": null,
   "id": "e23ef792",
   "metadata": {},
   "outputs": [],
   "source": [
    "word={'dog':'perra', 'cat':'gata', 'car':'coche', 'door': 'puerta', 'cup': 'taza', 'book': 'libro', 'chair': 'silla', 'table': 'mesa', 'child': 'nina', 'telephone': 'telefono', 'elephant': 'elefante', 'pool': 'piscina', 'tree': 'trebol', 'stove': 'estufa', 'santa': 'papa noel', 'elves': 'elfos', 'gift': 'regalo', 'sled': 'trineo', 'snow': 'nieve', 'bell': 'campana'}\n",
    "user_input=input(\"Enter a word to translate from English to Spanish (enter 0 to quit) :\")\n",
    "if user_input in word:\n",
    "    print(word[user_input])"
   ]
  },
  {
   "cell_type": "code",
   "execution_count": null,
   "id": "ffcdcaed",
   "metadata": {},
   "outputs": [],
   "source": [
    "weather= {'1': 68, '2': 65, '3': 56, '4': 65, '5': 57, '6': 52, '7': 49, '8': 54, '9': 55, '10': 57, '11': 62, '12': 61, '13': 65, '14': 58, '15': 68, '16': 67, '17': 62, '18': 64, '19': 57, '20': 58, '21': 59, '22': 60, '23': 52, '24': 53, '25': 54, '26': 45, '27': 46, '28': 47, '29': 48, '30': 49}\n",
    "weather.update ={key: (value-32)*5/9 for key, value in weather.items()}\n",
    "print(weather)"
   ]
  },
  {
   "cell_type": "code",
   "execution_count": 39,
   "id": "ec396e50",
   "metadata": {},
   "outputs": [
    {
     "name": "stdout",
     "output_type": "stream",
     "text": [
      "{1: 1}\n",
      "{1: 1, 2: 4}\n",
      "{1: 1, 2: 4, 3: 9}\n",
      "{1: 1, 2: 4, 3: 9, 4: 16}\n",
      "{1: 1, 2: 4, 3: 9, 4: 16, 5: 25}\n",
      "{1: 1, 2: 4, 3: 9, 4: 16, 5: 25, 6: 36}\n",
      "{1: 1, 2: 4, 3: 9, 4: 16, 5: 25, 6: 36, 7: 49}\n",
      "{1: 1, 2: 4, 3: 9, 4: 16, 5: 25, 6: 36, 7: 49, 8: 64}\n",
      "{1: 1, 2: 4, 3: 9, 4: 16, 5: 25, 6: 36, 7: 49, 8: 64, 9: 81}\n",
      "{1: 1, 2: 4, 3: 9, 4: 16, 5: 25, 6: 36, 7: 49, 8: 64, 9: 81, 10: 100}\n",
      "{1: 1, 2: 4, 3: 9, 4: 16, 5: 25, 6: 36, 7: 49, 8: 64, 9: 81, 10: 100, 11: 121}\n",
      "{1: 1, 2: 4, 3: 9, 4: 16, 5: 25, 6: 36, 7: 49, 8: 64, 9: 81, 10: 100, 11: 121, 12: 144}\n",
      "{1: 1, 2: 4, 3: 9, 4: 16, 5: 25, 6: 36, 7: 49, 8: 64, 9: 81, 10: 100, 11: 121, 12: 144, 13: 169}\n",
      "{1: 1, 2: 4, 3: 9, 4: 16, 5: 25, 6: 36, 7: 49, 8: 64, 9: 81, 10: 100, 11: 121, 12: 144, 13: 169, 14: 196}\n",
      "{1: 1, 2: 4, 3: 9, 4: 16, 5: 25, 6: 36, 7: 49, 8: 64, 9: 81, 10: 100, 11: 121, 12: 144, 13: 169, 14: 196, 15: 225}\n"
     ]
    }
   ],
   "source": [
    "a=dict()\n",
    "for x in range(1,16):\n",
    "    a[x]=x**2\n",
    "    print(a)"
   ]
  },
  {
   "cell_type": "code",
   "execution_count": null,
   "id": "1f25eaa1",
   "metadata": {},
   "outputs": [],
   "source": []
  }
 ],
 "metadata": {
  "kernelspec": {
   "display_name": "Python 3 (ipykernel)",
   "language": "python",
   "name": "python3"
  },
  "language_info": {
   "codemirror_mode": {
    "name": "ipython",
    "version": 3
   },
   "file_extension": ".py",
   "mimetype": "text/x-python",
   "name": "python",
   "nbconvert_exporter": "python",
   "pygments_lexer": "ipython3",
   "version": "3.9.13"
  }
 },
 "nbformat": 4,
 "nbformat_minor": 5
}
